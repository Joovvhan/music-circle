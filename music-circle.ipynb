{
 "cells": [
  {
   "cell_type": "code",
   "execution_count": null,
   "metadata": {},
   "outputs": [],
   "source": [
    "import librosa\n",
    "import os\n",
    "from time import sleep"
   ]
  },
  {
   "cell_type": "code",
   "execution_count": null,
   "metadata": {},
   "outputs": [],
   "source": [
    "import matplotlib.pyplot as plt\n",
    "import matplotlib as mpl"
   ]
  },
  {
   "cell_type": "code",
   "execution_count": null,
   "metadata": {},
   "outputs": [],
   "source": [
    "from scipy.signal import stft\n",
    "import numpy as np\n",
    "from matplotlib import gridspec"
   ]
  },
  {
   "cell_type": "code",
   "execution_count": null,
   "metadata": {},
   "outputs": [],
   "source": [
    "from tqdm.notebook import tqdm"
   ]
  },
  {
   "cell_type": "code",
   "execution_count": null,
   "metadata": {},
   "outputs": [],
   "source": [
    "from multiprocessing import Process, Queue"
   ]
  },
  {
   "cell_type": "code",
   "execution_count": null,
   "metadata": {},
   "outputs": [],
   "source": [
    "'''\n",
    "https://stackoverflow.com/questions/36074455/python-matplotlib-with-a-line-color-gradient-and-colorbar\n",
    "https://stackoverflow.com/questions/31940285/plot-a-polar-color-wheel-based-on-a-colormap-using-python-matplotlib\n",
    "'''"
   ]
  },
  {
   "cell_type": "code",
   "execution_count": null,
   "metadata": {},
   "outputs": [],
   "source": [
    "def draw_rainbow_polar(fig_name, i, data, l_bound, u_bound, cmap='hsv'):\n",
    "    y = np.concatenate([data, data[:1]])\n",
    "    \n",
    "    steps = np.arange(0, 2*np.pi, 2*np.pi/len(data))\n",
    "    steps = np.concatenate([steps, [2*np.pi]])\n",
    "\n",
    "    norm = mpl.colors.Normalize(0.0, 2*np.pi)\n",
    "\n",
    "    ax = plt.subplot(1, 1, 1, polar=True)\n",
    "    ax.set_facecolor('whitesmoke')\n",
    "\n",
    "    points = np.array([steps, y]).T.reshape(-1, 1, 2)\n",
    "    segments = np.concatenate([points[:-1], points[1:]], axis=1)\n",
    "\n",
    "    lc = mcoll.LineCollection(segments, \n",
    "                              array=steps, \n",
    "                              cmap=cmap, \n",
    "                              norm=norm,\n",
    "                              linewidth=1, \n",
    "                              alpha=1.0)\n",
    "\n",
    "    ax.add_collection(lc)\n",
    "    plt.title(f'Step {i:04d}')\n",
    "    plt.ylim([l_bound, u_bound])\n",
    "    ax.get_yaxis().set_visible(True)\n",
    "    ax.xaxis.set_ticklabels([])\n",
    "    ax.yaxis.set_ticklabels([])\n",
    "    \n",
    "    plt.savefig(os.path.join('fig', fig_name))\n",
    "    plt.close()"
   ]
  },
  {
   "cell_type": "code",
   "execution_count": null,
   "metadata": {},
   "outputs": [],
   "source": [
    "path = 'music.wav'\n",
    "fs = 44100\n",
    "block_length = 1\n",
    "frame_length = int(fs * 0.2)\n",
    "hop_length = frame_length\n",
    "\n",
    "# mel_banks = librosa.filters.mel(sr=fs, n_fft=0.1*fs, n_mels=2206)\n",
    "# mel_banks = librosa.filters.mel(sr=fs, n_fft=0.1*fs, n_mels=80)\n",
    "# mel_banks.shape\n",
    "# (80, 2206)"
   ]
  },
  {
   "cell_type": "code",
   "execution_count": null,
   "metadata": {},
   "outputs": [],
   "source": [
    "fft_list = list()\n",
    "\n",
    "stream = librosa.core.stream(path, block_length, frame_length, hop_length)\n",
    "\n",
    "for i, block in tqdm(enumerate(stream)):\n",
    "    if len(block) < frame_length:\n",
    "        continue\n",
    "    f, t, Zxx = stft(block, fs=fs, nperseg=0.1*fs)\n",
    "    Sxx = np.abs(Zxx)\n",
    "    spectrogam = 20 * np.log10(np.maximum(Sxx, 1e-8))\n",
    "    spectrogam = (spectrogam + 160) / 160\n",
    "\n",
    "    fft = np.mean(spectrogam, axis=1)\n",
    "    \n",
    "    fft_list.append(fft)\n",
    "    \n",
    "fft_mean = np.mean(fft_list, axis=0)\n",
    "fft_std = np.std(fft_list, axis=0)"
   ]
  },
  {
   "cell_type": "code",
   "execution_count": null,
   "metadata": {},
   "outputs": [],
   "source": [
    "stream = librosa.core.stream(path, block_length, frame_length, hop_length)\n",
    "\n",
    "for i, block in tqdm(enumerate(stream)):\n",
    "    if len(block) < frame_length:\n",
    "        continue\n",
    "    f, t, Zxx = stft(block, fs=fs, nperseg=0.1*fs)\n",
    "    Sxx = np.abs(Zxx)\n",
    "    spectrogam = 20 * np.log10(np.maximum(Sxx, 1e-8))\n",
    "    spectrogam = (spectrogam + 160) / 160\n",
    "    fft = np.mean(spectrogam, axis=1)\n",
    "    \n",
    "    fft_diff = fft - fft_mean\n",
    "    draw_rainbow_polar(f'{i:04d}.png', i, fft_diff, -1.0, 0.5)\n",
    "    \n",
    "    fft_diff_norm = fft_diff/fft_std\n",
    "    draw_rainbow_polar(f'norm_{i:04d}.png', i, fft_diff_norm, -4.0, 4.0)\n",
    "            "
   ]
  },
  {
   "cell_type": "code",
   "execution_count": null,
   "metadata": {
    "scrolled": true
   },
   "outputs": [],
   "source": [
    "stream = librosa.core.stream(path, block_length, frame_length, hop_length)\n",
    "\n",
    "for i, block in tqdm(enumerate(stream)):\n",
    "#     if i < 50:\n",
    "#         continue\n",
    "    f, t, Zxx = stft(block, fs=fs, nperseg=0.1*fs)\n",
    "    Sxx = np.abs(Zxx)\n",
    "    spectrogam = 20 * np.log10(np.maximum(Sxx, 1e-8))\n",
    "#     print(len(f), len(t), Zxx.shape)\n",
    "    spectrogam = (spectrogam + 160) / 160\n",
    "#     fig, axes = plt.subplots(1, 5)\n",
    "#     im = axes[0:4].imshow(spectrogam, origin='lower', aspect='auto')\n",
    "#     plt.colorbar(im)\n",
    "#     plt.show()\n",
    "\n",
    "#     fig = plt.figure(figsize=(8, 8)) \n",
    "#     grid_spec_dict = {\n",
    "# #                       'nrows': 1, # row 몇 개 \n",
    "# #                       'ncols': 2, # col 몇 개 \n",
    "#                       'height_ratios': [1], \n",
    "#                       'width_ratios': [3, 12]\n",
    "        \n",
    "#     }\n",
    "#     gs = gridspec.GridSpec(**grid_spec_dict)\n",
    "    \n",
    "#     axes = list(map(plt.subplot, gs))\n",
    "#     fft = np.mean(spectrogam, axis=1)\n",
    "#     axes[0].plot(fft, range(len(fft)))\n",
    "#     im = axes[1].imshow(spectrogam, origin='lower', aspect='auto')\n",
    "#     plt.colorbar(im)\n",
    "#     plt.show()\n",
    "\n",
    "#     fig, axes = plt.subplots(1, 2, sharey=True, gridspec_kw=grid_spec_dict)\n",
    "#     fft = np.mean(spectrogam, axis=1)\n",
    "#     axes[0].plot(fft - fft_mean, range(len(fft)))\n",
    "#     axes[0].set_xlim([0, 1])\n",
    "#     im = axes[1].imshow(spectrogam, origin='lower', aspect='auto')\n",
    "#     plt.colorbar(im)\n",
    "#     plt.tight_layout()\n",
    "#     plt.show()\n",
    "    \n",
    "#     fig, axes = plt.subplots(1, 2, sharey=True, gridspec_kw=grid_spec_dict)\n",
    "#     fft = np.mean(spectrogam, axis=1)\n",
    "#     axes[0].plot(fft, range(len(fft)))\n",
    "#     axes[0].set_xlim([0, 1])\n",
    "#     im = axes[1].imshow(spectrogam, origin='lower', aspect='auto')\n",
    "#     plt.colorbar(im)\n",
    "#     plt.tight_layout()\n",
    "#     plt.show()\n",
    "        \n",
    "    pass"
   ]
  },
  {
   "cell_type": "code",
   "execution_count": null,
   "metadata": {},
   "outputs": [],
   "source": [
    "## steps = np.arange(0, 2*np.pi, 2*np.pi/len(fft_mean))\n",
    "# plt.figure()\n",
    "plt.polar(steps, fft - fft_mean, '')\n",
    "plt.title('Step')\n",
    "plt.ylim([-1.0, 0.5])\n",
    "ax = plt.gca()\n",
    "ax.get_yaxis().set_visible(True)\n",
    "# ax.set_xticks([])\n",
    "# ax.set_yticks([])\n",
    "ax.xaxis.set_ticklabels([])\n",
    "ax.yaxis.set_ticklabels([])\n",
    "# plt.axis('off')\n",
    "# plt.xticks()\n",
    "# plt.yticks()\n",
    "plt.show()"
   ]
  }
 ],
 "metadata": {
  "kernelspec": {
   "display_name": "Python 3",
   "language": "python",
   "name": "python3"
  },
  "language_info": {
   "codemirror_mode": {
    "name": "ipython",
    "version": 3
   },
   "file_extension": ".py",
   "mimetype": "text/x-python",
   "name": "python",
   "nbconvert_exporter": "python",
   "pygments_lexer": "ipython3",
   "version": "3.7.5"
  }
 },
 "nbformat": 4,
 "nbformat_minor": 2
}
